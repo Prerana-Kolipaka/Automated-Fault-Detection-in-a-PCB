{
  "cells": [
    {
      "cell_type": "code",
      "execution_count": null,
      "metadata": {
        "id": "9TKYL4KiQkMg",
        "outputId": "acd3ee66-4413-4461-8e78-c6b6b317f553"
      },
      "outputs": [
        {
          "data": {
            "text/plain": [
              "-1"
            ]
          },
          "execution_count": 13,
          "metadata": {},
          "output_type": "execute_result"
        }
      ],
      "source": [
        "import cv2\n",
        "import matplotlib.pyplot as plt\n",
        "import numpy as np\n",
        "\n",
        "MAX_FEATURES = 500\n",
        "GOOD_MATCH_PERCENT = 0.15\n",
        "\n",
        "def alignImages(im1, im2):\n",
        "  # Convert images to grayscale\n",
        "  im1Gray = cv2.cvtColor(im1, cv2.COLOR_BGR2GRAY)\n",
        "  im2Gray = cv2.cvtColor(im2, cv2.COLOR_BGR2GRAY)\n",
        "  # Detect ORB features and compute descriptors.\n",
        "  orb = cv2.ORB_create(MAX_FEATURES)\n",
        "  keypoints1, descriptors1 = orb.detectAndCompute(im1Gray, None)\n",
        "  keypoints2, descriptors2 = orb.detectAndCompute(im2Gray, None)\n",
        "  # Match features.\n",
        "  matcher = cv2.DescriptorMatcher_create(cv2.DESCRIPTOR_MATCHER_BRUTEFORCE_HAMMING)\n",
        "  matches = matcher.match(descriptors1, descriptors2, None)\n",
        "  # Sort matches by score\n",
        "  matches.sort(key=lambda x: x.distance, reverse=False)\n",
        "  # Remove not so good matches\n",
        "  numGoodMatches = int(len(matches) * GOOD_MATCH_PERCENT)\n",
        "  matches = matches[:numGoodMatches]\n",
        "  # Draw top matches\n",
        "  imMatches = cv2.drawMatches(im1, keypoints1, im2, keypoints2, matches, None)\n",
        "  cv2.imwrite(\"matches.jpg\", imMatches)\n",
        "  # Extract location of good matches\n",
        "  points1 = np.zeros((len(matches), 2), dtype=np.float32)\n",
        "  points2 = np.zeros((len(matches), 2), dtype=np.float32)\n",
        "  for i, match in enumerate(matches):\n",
        "    points1[i, :] = keypoints1[match.queryIdx].pt\n",
        "    points2[i, :] = keypoints2[match.trainIdx].pt\n",
        "  # Find homography\n",
        "  h, mask = cv2.findHomography(points1, points2, cv2.RANSAC)\n",
        "  # Use homography\n",
        "  height, width, channels = im2.shape\n",
        "  im1Reg = cv2.warpPerspective(im1, h, (width, height))\n",
        "  return im1Reg, h\n",
        "\n",
        "\n",
        "\n",
        "refimg = cv2.imread(\"C:\\\\Users\\\\admin\\\\Desktop\\\\TY Project\\\\Gerber reference.png\")\n",
        "\n",
        "testimg = cv2.imread(\"C:\\\\Users\\\\admin\\\\Desktop\\\\TY Project\\\\Gerber test3.png\")\n",
        "\n",
        "refimg =cv2.resize(refimg,(500,500))\n",
        "testimg = cv2.resize(testimg,(500,500))\n",
        "cv2.imshow(\"Reference Image\",refimg)\n",
        "cv2.imshow(\"Test Image\",testimg)\n",
        "#cv2.imshow(\"Reference Image\",refimg)\n",
        "#cv2.imshow(\"Test Image\",testimg)\n",
        "cv2.imwrite(\"RefImage resized.jpg\",refimg)\n",
        "cv2.imwrite(\"TestImg resized.jpg\",testimg)\n",
        "imReg, h = alignImages(testimg,refimg)\n",
        "cv2.imshow(\"Aligned Image\",imReg)\n",
        "cv2.imwrite(\"alignedImage.jpg \",imReg)\n",
        "diffImg = cv2.absdiff(imReg,refimg)\n",
        "cv2.imshow(\"Difference image\",diffImg)\n",
        "cv2.imwrite(\"difffimg.jpg\",diffImg)\n",
        "ret,thresh1 = cv2.threshold(diffImg,140,255,cv2.THRESH_BINARY)\n",
        "cv2.imshow(\"Thresholded image\",thresh1)\n",
        "cv2.imwrite(\"threshimg.jpg\",thresh1)\n",
        "#kernel = np.ones((3,3), np.uint8)\n",
        "#dilated=cv2.dilate(thresh1,kernel)\n",
        "#cv2.imshow(\"dilated image\",dilated)\n",
        "diffImg2=cv2.medianBlur(thresh1,3)\n",
        "cv2.imshow(\"Difference image 2\",diffImg2)\n",
        "cv2.imwrite(\"difffimg2.jpg\",diffImg2)\n",
        "cv2.waitKey(0)\n"
      ]
    },
    {
      "cell_type": "code",
      "execution_count": null,
      "metadata": {
        "id": "7qVtqi-xQkMh"
      },
      "outputs": [],
      "source": []
    }
  ],
  "metadata": {
    "kernelspec": {
      "display_name": "Python 3",
      "language": "python",
      "name": "python3"
    },
    "language_info": {
      "codemirror_mode": {
        "name": "ipython",
        "version": 3
      },
      "file_extension": ".py",
      "mimetype": "text/x-python",
      "name": "python",
      "nbconvert_exporter": "python",
      "pygments_lexer": "ipython3",
      "version": "3.7.3"
    },
    "colab": {
      "provenance": []
    }
  },
  "nbformat": 4,
  "nbformat_minor": 0
}